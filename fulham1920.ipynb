{
 "cells": [
  {
   "cell_type": "markdown",
   "metadata": {},
   "source": [
    "# Team Analysis - Fulham 2019-2020\n",
    "This analysis will profile the EFL Championship team Fulham during the 2019-2020 season"
   ]
  },
  {
   "cell_type": "code",
   "execution_count": 1,
   "metadata": {},
   "outputs": [],
   "source": [
    "# Import Libraries\n",
    "from mongoengine import *\n",
    "import qgrid, pandas as pd\n",
    "from football_data import Match"
   ]
  },
  {
   "cell_type": "code",
   "execution_count": 2,
   "metadata": {},
   "outputs": [],
   "source": [
    "# Setup\n",
    "qgrid.set_defaults(grid_options=\\\n",
    "{\n",
    "    # SlickGrid options\n",
    "    'fullWidthRows': True,\n",
    "    'syncColumnCellResize': True,\n",
    "    'forceFitColumns': False,\n",
    "    'defaultColumnWidth': 150,\n",
    "    'rowHeight': 28,\n",
    "    'enableColumnReorder': False,\n",
    "    'enableTextSelectionOnCells': True,\n",
    "    'editable': True,\n",
    "    'autoEdit': False,\n",
    "    'explicitInitialization': True,\n",
    "\n",
    "    # Qgrid options\n",
    "    'maxVisibleRows': 15,\n",
    "    'minVisibleRows': 8,\n",
    "    'sortable': True,\n",
    "    'filterable': True,\n",
    "    'highlightSelectedCell': False,\n",
    "    'highlightSelectedRow': True\n",
    "})\n",
    "qgrid.enable()"
   ]
  },
  {
   "cell_type": "code",
   "execution_count": 3,
   "metadata": {},
   "outputs": [
    {
     "data": {
      "text/plain": [
       "MongoClient(host=['localhost:27017'], document_class=dict, tz_aware=False, connect=True, read_preference=Primary())"
      ]
     },
     "execution_count": 3,
     "metadata": {},
     "output_type": "execute_result"
    }
   ],
   "source": [
    "# Connect to football database\n",
    "connect(\"football-data\")"
   ]
  },
  {
   "cell_type": "code",
   "execution_count": 4,
   "metadata": {},
   "outputs": [],
   "source": [
    "# Helper functions\n",
    "def __home_away_result(home_away, home_away_result):\n",
    "    result = None\n",
    "    if home_away_result == home_away:\n",
    "        result = \"W\"\n",
    "    elif home_away_result == \"D\":\n",
    "        result = \"D\"\n",
    "    else:\n",
    "        result = \"L\"\n",
    "    return result\n",
    "\n",
    "def __home_away_dataframe(home_away, home_away_df):\n",
    "    df = home_away_df.copy()\n",
    "    col_map = {k:v[home_away] for k,v in team_match_col_map.items()}\n",
    "    df.rename(inplace=True, columns = col_map)\n",
    "    df['home_away'] = home_away\n",
    "    df['FTR'] = df.apply(lambda x: __home_away_result(home_away,x[\"FTR\"]), axis='columns')\n",
    "    df['HTR'] = df.apply(lambda x: __home_away_result(home_away,x[\"HTR\"]), axis='columns')        \n",
    "    return df\n",
    "\n",
    "def team_match_dataframe(home_away_df):\n",
    "    home_team_df = __home_away_dataframe(\"H\",home_away_df)\n",
    "    away_team_df = __home_away_dataframe(\"A\",home_away_df)\n",
    "    return pd.concat([home_team_df,away_team_df], ignore_index=True)"
   ]
  },
  {
   "cell_type": "code",
   "execution_count": 5,
   "metadata": {},
   "outputs": [],
   "source": [
    "team_match_col_map = \\\n",
    "{\"home_team\":{\"H\":\"team\",\"A\":\"against\"}\n",
    " ,\"away_team\":{\"H\":\"against\",\"A\":\"team\"}\n",
    " ,\"FTHG\":{\"H\":\"FTG\",\"A\":\"FTG_a\"}\n",
    " ,\"FTAG\":{\"H\":\"FTG_a\",\"A\":\"FTG\"}\n",
    " ,\"HTHG\":{\"H\":\"HTG\",\"A\":\"HTG_a\"}\n",
    " ,\"HTAG\":{\"H\":\"HTG_a\",\"A\":\"HTG\"}\n",
    " ,\"HS\":{\"H\":\"S\",\"A\":\"S_a\"}\n",
    " ,\"AS\":{\"H\":\"S_a\",\"A\":\"S\"}\n",
    " ,\"HST\":{\"H\":\"ST\",\"A\":\"ST_a\"}\n",
    " ,\"AST\":{\"H\":\"ST_a\",\"A\":\"ST\"}\n",
    " ,\"HF\":{\"H\":\"F\",\"A\":\"F_a\"}\n",
    " ,\"AF\":{\"H\":\"F_a\",\"A\":\"F\"}\n",
    " ,\"HC\":{\"H\":\"C\",\"A\":\"C_a\"}\n",
    " ,\"AC\":{\"H\":\"C_a\",\"A\":\"C\"}\n",
    " ,\"HY\":{\"H\":\"Y\",\"A\":\"Y_a\"}\n",
    " ,\"AY\":{\"H\":\"Y_a\",\"A\":\"Y\"}\n",
    " ,\"HR\":{\"H\":\"R\",\"A\":\"R_a\"}\n",
    " ,\"AR\":{\"H\":\"R_a\",\"A\":\"R\"}}"
   ]
  },
  {
   "cell_type": "code",
   "execution_count": 6,
   "metadata": {},
   "outputs": [
    {
     "data": {
      "application/vnd.jupyter.widget-view+json": {
       "model_id": "27206db59e78450abf465846a57871d3",
       "version_major": 2,
       "version_minor": 0
      },
      "text/plain": [
       "QgridWidget(grid_options={'fullWidthRows': True, 'syncColumnCellResize': True, 'forceFitColumns': False, 'defa…"
      ]
     },
     "metadata": {},
     "output_type": "display_data"
    }
   ],
   "source": [
    "# Prepare data\n",
    "match = Match.objects.filter(Q(season=\"1920\") & Q(competition=\"E1\"))\n",
    "team_l = match.distinct('home_team')\n",
    "match_df = pd.DataFrame(match.as_pymongo())\n",
    "team_match_df = team_match_dataframe(match_df)\n",
    "team_match_df # show\n",
    "# team_df"
   ]
  },
  {
   "cell_type": "code",
   "execution_count": 20,
   "metadata": {
    "scrolled": true
   },
   "outputs": [
    {
     "data": {
      "application/vnd.jupyter.widget-view+json": {
       "model_id": "9799f70a77c7457492dab8a4ee8e6db6",
       "version_major": 2,
       "version_minor": 0
      },
      "text/plain": [
       "QgridWidget(grid_options={'fullWidthRows': True, 'syncColumnCellResize': True, 'forceFitColumns': False, 'defa…"
      ]
     },
     "metadata": {},
     "output_type": "display_data"
    }
   ],
   "source": [
    "# Fulham matches\n"
   ]
  },
  {
   "cell_type": "code",
   "execution_count": null,
   "metadata": {},
   "outputs": [],
   "source": []
  },
  {
   "cell_type": "code",
   "execution_count": null,
   "metadata": {},
   "outputs": [],
   "source": []
  }
 ],
 "metadata": {
  "kernelspec": {
   "display_name": "Python 3",
   "language": "python",
   "name": "python3"
  },
  "language_info": {
   "codemirror_mode": {
    "name": "ipython",
    "version": 3
   },
   "file_extension": ".py",
   "mimetype": "text/x-python",
   "name": "python",
   "nbconvert_exporter": "python",
   "pygments_lexer": "ipython3",
   "version": "3.8.5"
  }
 },
 "nbformat": 4,
 "nbformat_minor": 4
}
